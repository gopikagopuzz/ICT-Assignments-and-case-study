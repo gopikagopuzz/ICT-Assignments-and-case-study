{
  "nbformat": 4,
  "nbformat_minor": 0,
  "metadata": {
    "colab": {
      "provenance": []
    },
    "kernelspec": {
      "name": "python3",
      "display_name": "Python 3"
    },
    "language_info": {
      "name": "python"
    }
  },
  "cells": [
    {
      "cell_type": "markdown",
      "source": [
        "Question 1\n"
      ],
      "metadata": {
        "id": "pgiLD3VJGTZl"
      }
    },
    {
      "cell_type": "code",
      "source": [
        "# a part  Store the prices of items in a dictionary (e.g., {'apple': 10, 'milk': 50})\n",
        "\n",
        "\n",
        "items={'apple': 10, 'milk': 25, 'banana': 15, 'bread': 20, 'eggs': 5}\n",
        "#print(type(dic))\n",
        "items\n",
        "for key,value in items.items():\n",
        "  print(key, ': ','Rs.',value, ' per unit')\n",
        "\n",
        "\n",
        "# b part    Take the items purchased and their quantities as input.\n",
        "\n",
        "bill=0\n",
        "while True:\n",
        "  item_name = input(\"Enter item name (or 'done' to finish):\")\n",
        "  if item_name == 'done':\n",
        "   break\n",
        "  if item_name in items:\n",
        "     quantity=int(input(\"Enter the quantity  \"))\n",
        "     bill+=quantity*items[item_name]\n",
        "  else:\n",
        "     print(\"Item not available\")\n",
        "\n",
        "\n",
        "# c part  Calculate and display the total bill amount.\n",
        "\n",
        "\n",
        "print(\"Your total bill is: \",bill)\n",
        "print(\"Thank you for your purchase visit again.\")\n",
        "\n"
      ],
      "metadata": {
        "id": "6HYF0jp6GRxG",
        "colab": {
          "base_uri": "https://localhost:8080/"
        },
        "outputId": "864c0069-e563-403b-e856-3d5f34a9ffe1"
      },
      "execution_count": 7,
      "outputs": [
        {
          "output_type": "stream",
          "name": "stdout",
          "text": [
            "apple :  Rs. 10  per unit\n",
            "milk :  Rs. 25  per unit\n",
            "banana :  Rs. 15  per unit\n",
            "bread :  Rs. 20  per unit\n",
            "eggs :  Rs. 5  per unit\n",
            "Enter item name (or 'done' to finish):2\n",
            "Item not available\n",
            "Enter item name (or 'done' to finish):apple\n",
            "Enter the quantity  2\n",
            "Enter item name (or 'done' to finish):milk\n",
            "Enter the quantity  2\n",
            "Enter item name (or 'done' to finish):done\n",
            "Your total bill is:  70\n",
            "Thank you for your purchase visit again.\n"
          ]
        }
      ]
    },
    {
      "cell_type": "markdown",
      "source": [
        "Question 2"
      ],
      "metadata": {
        "id": "_gk19dqSBylp"
      }
    },
    {
      "cell_type": "code",
      "source": [
        "7#a part  Store marks for 5 subjects in a list.\n",
        "print(\"Enter the marks of 5 subject out of 100\")\n",
        "mark1=int(input(\"Mark of subject 1: \"))\n",
        "mark2=int(input(\"Mark of subject 2: \"))\n",
        "mark3=int(input(\"Mark of subject 3: \"))\n",
        "mark4=int(input(\"Mark of subject 4: \"))\n",
        "mark5=int(input(\"Mark of subject 5: \"))\n",
        "score=[mark1,mark2,mark3,mark4,mark5]\n",
        "#print(type(score))\n",
        "print(score)\n",
        "\n",
        "#b part   Calculate the average and determine the grade:\n",
        "#c part    Calculate the average and determine the grade:\n",
        "#average\n",
        "avg=(mark1+mark2+mark3+mark4+mark5)/5\n",
        "print(\"Average: \",avg)\n",
        "\n",
        "#grade\n",
        "if(avg>=90):\n",
        "  print(\"Grade: A\")\n",
        "elif(avg>=70 and avg<=89):\n",
        "  print(\"Grade: B\")\n",
        "elif(avg>=50 and avg<=69):\n",
        "  print(\"Grade: C\")\n",
        "else:\n",
        "  print(\"Grade: F\")"
      ],
      "metadata": {
        "colab": {
          "base_uri": "https://localhost:8080/"
        },
        "id": "BA6JAJ_YDQce",
        "outputId": "769d9dac-f4bd-420a-a461-e15c90fa4ac1"
      },
      "execution_count": 8,
      "outputs": [
        {
          "output_type": "stream",
          "name": "stdout",
          "text": [
            "Enter the marks of 5 subject out of 100\n",
            "Mark of subject 1: 60\n",
            "Mark of subject 2: 70\n",
            "Mark of subject 3: 80\n",
            "Mark of subject 4: 90\n",
            "Mark of subject 5: 100\n",
            "[60, 70, 80, 90, 100]\n",
            "Average:  80.0\n",
            "Grade: B\n"
          ]
        }
      ]
    },
    {
      "cell_type": "markdown",
      "source": [
        "Question 3\n"
      ],
      "metadata": {
        "id": "iyJiGc9EYBzu"
      }
    },
    {
      "cell_type": "code",
      "source": [
        "# a part    Use a list to store the available seats (e.g., [1, 2, 3, ..., 20]).\n",
        "seats=list(range(1,21))\n",
        "print(seats)\n",
        "# b part   Allow the customer to book a seat by entering the seat number.\n",
        "\n",
        "while len(seats)>0:\n",
        "    booking=int(input('Enter the seat you want to book: '))\n",
        "    if booking not in seats:\n",
        "      print('Seat is not available,try another seat')\n",
        "      exit_choice=input('Do you want to exit?(Type yes to exit else type no)')\n",
        "      if exit_choice=='yes':\n",
        "          print('Thank you for visiting.Have a nice day')\n",
        "          break\n",
        "      continue\n",
        "\n",
        "\n",
        "    name=input('Enter your name: ')\n",
        "\n",
        "  # c part    After booking, remove the seat from the list of available seats.\n",
        "\n",
        "    print('Your seat is booked ')\n",
        "    seats.remove(booking)\n",
        "    print(\"The remaining seats are:\",seats)\n",
        "\n",
        "    if len(seats)==0:\n",
        "       print('Sorry no seats are available!')\n",
        "       break\n",
        "\n",
        "\n",
        "    another=input('Would you like to book another seat? (Type yes to book,no to exit): ')\n",
        "    if another==\"no\":\n",
        "       print('Thank you for your booking have a nice time.')\n",
        "       break\n",
        "# d part  Display the remaining available seats.\n",
        "    else:\n",
        "        print('The available seats are: ',seats)\n",
        ""
      ],
      "metadata": {
        "colab": {
          "base_uri": "https://localhost:8080/"
        },
        "id": "tJZyoN8AYePw",
        "outputId": "1728779f-c3f1-497b-8bec-b520a497da48"
      },
      "execution_count": 3,
      "outputs": [
        {
          "output_type": "stream",
          "name": "stdout",
          "text": [
            "[1, 2, 3, 4, 5, 6, 7, 8, 9, 10, 11, 12, 13, 14, 15, 16, 17, 18, 19, 20]\n",
            "Enter the seat you want to book: 50\n",
            "Seat is not available,try another seat\n",
            "Do you want to exit?(Type yes to exit else type no)no\n",
            "Enter the seat you want to book: 15\n",
            "Enter your name: anu\n",
            "Your seat is booked \n",
            "The remaining seats are: [1, 2, 3, 4, 5, 6, 7, 8, 9, 10, 11, 12, 13, 14, 16, 17, 18, 19, 20]\n",
            "Would you like to book another seat? (Type yes to book,no to exit): yes\n",
            "The available seats are:  [1, 2, 3, 4, 5, 6, 7, 8, 9, 10, 11, 12, 13, 14, 16, 17, 18, 19, 20]\n",
            "Enter the seat you want to book: 15\n",
            "Seat is not available,try another seat\n",
            "Do you want to exit?(Type yes to exit else type no)no\n",
            "Enter the seat you want to book: 21\n",
            "Seat is not available,try another seat\n",
            "Do you want to exit?(Type yes to exit else type no)no\n",
            "Enter the seat you want to book: 12\n",
            "Enter your name: lekha\n",
            "Your seat is booked \n",
            "The remaining seats are: [1, 2, 3, 4, 5, 6, 7, 8, 9, 10, 11, 13, 14, 16, 17, 18, 19, 20]\n",
            "Would you like to book another seat? (Type yes to book,no to exit): no\n",
            "Thank you for your booking have a nice time.\n"
          ]
        }
      ]
    }
  ]
}